{
  "cells": [
    {
      "cell_type": "code",
      "execution_count": null,
      "metadata": {
        "id": "jWJVSF54RGSj"
      },
      "outputs": [],
      "source": [
        "%pip install flask-ngrok\n",
        "%pip install pyngrok\n",
        "%ngrok authtoken 2Sy2LWPQ2xqvJOk65EY8RMwsEKA_6NfruRjiBmV7s6BFhkUap\n",
        "%pip install speechrecognition\n",
        "%ip install gradio TTS\n",
        "from flask import Flask, request\n",
        "import speech_recognition as sr\n",
        "\n",
        "app = Flask(__name__)\n",
        "\n",
        "class Transcribe_File:\n",
        "    def __init__(self):\n",
        "        self.recognizer = sr.Recognizer()\n",
        "\n",
        "    def transcribe_audio(self, audio_file):\n",
        "        with sr.AudioFile(audio_file) as source:\n",
        "            audio_data = self.recognizer.record(source)\n",
        "            try:\n",
        "                text = self.recognizer.recognize_google(audio_data, language=\"lo-LA\")\n",
        "                return {\"transcription\": text}\n",
        "            except sr.UnknownValueError:\n",
        "                return {\"error\": \"Google Speech Recognition could not understand the audio\"}\n",
        "            except sr.RequestError as e:\n",
        "                return {\"error\": f\"Could not request results from Google Speech Recognition service; {e}\"}"
      ]
    },
    {
      "cell_type": "code",
      "execution_count": null,
      "metadata": {
        "id": "juKb73TKRJFC"
      },
      "outputs": [],
      "source": [
        "from flask import Flask\n",
        "from flask_ngrok import run_with_ngrok\n",
        "from distutils.log import error\n",
        "import mimetypes\n",
        "from re import template\n",
        "from urllib import request\n",
        "import io\n",
        "import os\n",
        "from flask import render_template, request, send_file\n",
        "import tempfile\n",
        "import gradio as gr\n",
        "import numpy as np\n",
        "import os\n",
        "import json\n",
        "from typing import Optional\n",
        "from TTS.config import load_config\n",
        "from TTS.utils.manage import ModelManager\n",
        "from TTS.utils.synthesizer import Synthesizer\n",
        "\n",
        "model_path = \"D:\\Downloads\\project final\\final_model\\checkpoint_100000.pth\" #path of model_path\n",
        "config_path = \"D:\\Downloads\\project final\\final_model\\config.json\" #path pf config_path\n",
        "speakers_file_path = \"D:\\Downloads\\project final\\final_model\\language_ids.json\" #path of speakers_file_path\n",
        "\n",
        "speaker_idx = \"Nick\"\n",
        "\n",
        "synthesizer = Synthesizer(\n",
        "    model_path, config_path, speakers_file_path, None, None, None,\n",
        ")\n",
        "PEOPLE_FOLDER = os.path.join('D:\\Downloads\\project final\\website_with_flask', 'templates')\n",
        "app = Flask(__name__, template_folder=\"D:\\Downloads\\project final\\website_with_flask\\templates\", static_folder=\"D:\\Downloads\\project final\\website_with_flask\\templates\")\n",
        "app.config['UPLOAD_FOLDER'] = PEOPLE_FOLDER\n",
        "run_with_ngrok(app)\n",
        "@app.route(\"/\")\n",
        "\n",
        "def index():\n",
        "    full_filename = os.path.join(app.config['UPLOAD_FOLDER'], 'LoiyToiyDev.png')\n",
        "    return render_template(\"index.html\",user_image = full_filename)\n",
        "\n",
        "@app.route(\"/call/martha\", methods = [\"POST\"])\n",
        "def call_martha():\n",
        "    if not request.form[\"text\"]:\n",
        "        return {\"error\": \"Please provide the text\"}, 400\n",
        "    text = request.form[\"text\"]\n",
        "    outputs = synthesizer.tts(text, speaker_idx,language_name=\"lo-la\")\n",
        "    out = io.BytesIO()\n",
        "    synthesizer.save_wav(outputs, out)\n",
        "    return send_file(out, mimetype=\"audio/wav\")\n",
        "\n",
        "@app.route(\"/transcribe\", methods=[\"POST\"])\n",
        "def transcribe():\n",
        "    transcriber = Transcribe_File()\n",
        "    audio_file = request.files[\"audio_file\"]\n",
        "    if audio_file:\n",
        "        result = transcriber.transcribe_audio(audio_file)\n",
        "        return result\n",
        "    else:\n",
        "        return {\"error\": \"No audio file provided\"}\n",
        "app.run()"
      ]
    }
  ],
  "metadata": {
    "colab": {
      "provenance": []
    },
    "kernelspec": {
      "display_name": "Python 3",
      "name": "python3"
    },
    "language_info": {
      "name": "python"
    }
  },
  "nbformat": 4,
  "nbformat_minor": 0
}
